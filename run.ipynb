{
 "cells": [
  {
   "cell_type": "code",
   "execution_count": 1,
   "metadata": {
    "collapsed": true
   },
   "outputs": [],
   "source": [
    "#!/usr/bin/env python\n",
    "import numpy as np\n",
    "from options import get_options\n",
    "import pprint as pp\n",
    "from preprocess import input_to_target, plot_mel_spectrogram, plot_time_amplitude, load_audio_feature\n",
    "from models.SVM import SVMModel\n",
    "\n"
   ]
  },
  {
   "cell_type": "code",
   "execution_count": 18,
   "metadata": {
    "collapsed": true
   },
   "outputs": [],
   "source": [
    "class Opts():\n",
    "    def __init__(self):\n",
    "        self.sr = 16000 #Sampling rate for audio samples\n",
    "        self.batch_size = 32\n",
    "        self.audio_duration = 4\n",
    "        self.data_path = \"./data/\"\n",
    "        self.plot_path = \"./plot/\"\n",
    "        self.baseline = True #'Using the baseline SVM approach'"
   ]
  },
  {
   "cell_type": "code",
   "execution_count": 3,
   "metadata": {
    "collapsed": true
   },
   "outputs": [],
   "source": [
    "def _gen_dataset(df, opts):\n",
    "\tX, y = None, []\n",
    "\n",
    "\tfor file_path, label in zip(df['file_paths'], df['labels']):\n",
    "\t\tmfccs, chroma, mel, contrast = load_audio_feature(file_path, opts)\n",
    "\t\t# print(\"S.shape:\" + str(S.shape))\n",
    "\t\tif X is None:\n",
    "\t\t\tX = np.hstack([mfccs, chroma, mel, contrast])\n",
    "\t\telse:\n",
    "\t\t\tX = np.vstack([X, np.hstack([mfccs, chroma, mel, contrast])])\n",
    "\t\ty += [label]\n",
    "\t\n",
    "\t# assert(X.shape[1] == len(y))\n",
    "\treturn np.array(X), np.array(y)\n"
   ]
  },
  {
   "cell_type": "code",
   "execution_count": 19,
   "metadata": {
    "collapsed": false
   },
   "outputs": [
    {
     "ename": "TabError",
     "evalue": "inconsistent use of tabs and spaces in indentation (<ipython-input-19-b501813341ac>, line 4)",
     "output_type": "error",
     "traceback": [
      "\u001b[0;36m  File \u001b[0;32m\"<ipython-input-19-b501813341ac>\"\u001b[0;36m, line \u001b[0;32m4\u001b[0m\n\u001b[0;31m    train_file_df, test_file_df = input_to_target(opts)\u001b[0m\n\u001b[0m                                                       ^\u001b[0m\n\u001b[0;31mTabError\u001b[0m\u001b[0;31m:\u001b[0m inconsistent use of tabs and spaces in indentation\n"
     ]
    }
   ],
   "source": [
    "def run(opts):\n",
    "    \n",
    "    pprint(opts)\n",
    "    train_file_df, test_file_df = input_to_target(opts)\n",
    "    # plot_mel_spectrogram(train_file_df, opts)\n",
    "    # plot_time_amplitude(train_file_df, opts)\n",
    "\n",
    "\tX_train, y_train = _gen_dataset(train_file_df, opts)\n",
    "\t# print(\"Train dataset size = {:s}\".format(str(X_train.shape)))\n",
    "\t# print(\"Train label size = {:s}\".format(str(y_train.shape)))\n",
    "\tX_test, y_test = _gen_dataset(test_file_df, opts)\n",
    "\t# print(\"Test dataset size = {:s}\".format(str(X_test.shape)))\n",
    "\tsvm = SVMModel(opts)\n",
    "\tsvm.run(X_train, y_train)\n",
    "\tconfusion_matrix, classification_report, acc = svm.evaluate(X_test, y_test)\n",
    "\tprint(\"confusion_matrix:\")\n",
    "\tprint(str(confusion_matrix))\n",
    "\tprint(\"classification_report:\")\n",
    "\tprint(str(classification_report))\n",
    "\tprint(\"accuracy={:0.3f}\".format(acc))\n",
    "\t\n"
   ]
  },
  {
   "cell_type": "code",
   "execution_count": null,
   "metadata": {
    "collapsed": false
   },
   "outputs": [
    {
     "name": "stdout",
     "output_type": "stream",
     "text": [
      "{'audio_duration': 4,\n",
      " 'baseline': True,\n",
      " 'batch_size': 32,\n",
      " 'data_path': './data/',\n",
      " 'plot_path': './plot/',\n",
      " 'sr': 16000}\n"
     ]
    }
   ],
   "source": [
    "run(Opts())"
   ]
  },
  {
   "cell_type": "code",
   "execution_count": null,
   "metadata": {
    "collapsed": true
   },
   "outputs": [],
   "source": []
  }
 ],
 "metadata": {
  "kernelspec": {
   "display_name": "Python 3",
   "language": "python",
   "name": "python3"
  },
  "language_info": {
   "codemirror_mode": {
    "name": "ipython",
    "version": 3
   },
   "file_extension": ".py",
   "mimetype": "text/x-python",
   "name": "python",
   "nbconvert_exporter": "python",
   "pygments_lexer": "ipython3",
   "version": "3.6.8"
  }
 },
 "nbformat": 4,
 "nbformat_minor": 2
}
