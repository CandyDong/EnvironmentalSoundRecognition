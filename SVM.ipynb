{
 "cells": [
  {
   "cell_type": "code",
   "execution_count": 23,
   "metadata": {
    "collapsed": true
   },
   "outputs": [],
   "source": [
    "#!/usr/bin/env python\n",
    "import numpy as np\n",
    "import pprint as pp\n",
    "from preprocess import input_to_target, plot_mel_spectrogram, plot_time_amplitude, load_audio_feature\n",
    "import math\n",
    "import matplotlib.pyplot as plt\n",
    "from sklearn.svm import SVC\n",
    "from sklearn.metrics import classification_report, confusion_matrix \n",
    "import os\n",
    "import pandas as pd"
   ]
  },
  {
   "cell_type": "code",
   "execution_count": 24,
   "metadata": {
    "collapsed": true
   },
   "outputs": [],
   "source": [
    "class Opts():\n",
    "    def __init__(self):\n",
    "        self.sr = 16000 #Sampling rate for audio samples\n",
    "        self.batch_size = 32\n",
    "        self.audio_duration = 4\n",
    "        self.data_path = \"./data/\"\n",
    "        self.plot_path = \"./plot/\"\n",
    "        self.csv_path = \"./meta\"\n",
    "opts = Opts()"
   ]
  },
  {
   "cell_type": "code",
   "execution_count": 3,
   "metadata": {
    "collapsed": true
   },
   "outputs": [],
   "source": [
    "def _gen_dataset(df, opts):\n",
    "    X, y = None, []\n",
    "    for file_path, label in zip(df['file_paths'], df['labels']):\n",
    "        mfccs, chroma, mel, contrast = load_audio_feature(file_path, opts)\n",
    "        # print(\"S.shape:\" + str(S.shape))\n",
    "        if X is None:\n",
    "            X = np.hstack([mfccs, chroma, mel, contrast])\n",
    "        else:\n",
    "            X = np.vstack([X, np.hstack([mfccs, chroma, mel, contrast])])\n",
    "        y += [label]\n",
    "    # assert(X.shape[1] == len(y))\n",
    "    return np.array(X), np.array(y)\n"
   ]
  },
  {
   "cell_type": "code",
   "execution_count": 11,
   "metadata": {
    "collapsed": true
   },
   "outputs": [],
   "source": [
    "class SVMModel():\n",
    "    def __init__(self, opts):\n",
    "        self.svc = SVC(C=28.0, gamma = 0.00001, decision_function_shape=\"ovr\")\n",
    "\n",
    "    def run(self, X_train, y_train):\n",
    "        self.svc.fit(X_train, y_train)\n",
    "\n",
    "    # predict results with the trained SVC classifier\n",
    "    def predict(self, X_test):\n",
    "        return self.svc.predict(X_test)\n",
    "\n",
    "    def evaluate(self, X_test, y_test):\n",
    "        y_pred = self.predict(X_test)\n",
    "        print(\"y_pred:\"+str(y_pred))\n",
    "        confusion = confusion_matrix(y_test,y_pred)\n",
    "        classi = classification_report(y_test,y_pred)\n",
    "        acc = self.svc.score(X_test, y_test)\n",
    "        return confusion, classi, acc"
   ]
  },
  {
   "cell_type": "code",
   "execution_count": 21,
   "metadata": {
    "collapsed": false
   },
   "outputs": [],
   "source": []
  },
  {
   "cell_type": "code",
   "execution_count": 25,
   "metadata": {
    "collapsed": false
   },
   "outputs": [],
   "source": [
    "def df_from_csv(csv_path):\n",
    "    df = pd.read_csv(csv_path)\n",
    "    return df\n",
    "train_csv_path = os.path.join(opts.csv_path, \"train.csv\")\n",
    "test_csv_path = os.path.join(opts.csv_path, \"test.csv\")\n",
    "\n",
    "train_file_df, test_file_df = df_from_csv(train_csv_path), df_from_csv(test_csv_path)"
   ]
  },
  {
   "cell_type": "code",
   "execution_count": 26,
   "metadata": {
    "collapsed": false
   },
   "outputs": [
    {
     "name": "stdout",
     "output_type": "stream",
     "text": [
      "{'audio_duration': 4,\n",
      " 'batch_size': 32,\n",
      " 'csv_path': './meta',\n",
      " 'data_path': './data/',\n",
      " 'plot_path': './plot/',\n",
      " 'sr': 16000}\n"
     ]
    },
    {
     "name": "stderr",
     "output_type": "stream",
     "text": [
      "/Users/candydong/anaconda/lib/python3.6/site-packages/librosa/core/pitch.py:146: UserWarning:\n",
      "\n",
      "Trying to estimate tuning from empty frequency set.\n",
      "\n"
     ]
    },
    {
     "name": "stdout",
     "output_type": "stream",
     "text": [
      "Train dataset size = (1761, 187)\n",
      "Train label size = (1761,)\n",
      "Test dataset size = (925, 187)\n"
     ]
    }
   ],
   "source": [
    "\n",
    "# Pretty print the run args\n",
    "pp.pprint(vars(opts))\n",
    "\n",
    "X_train, y_train = _gen_dataset(train_file_df, opts)\n",
    "print(\"Train dataset size = {:s}\".format(str(X_train.shape)))\n",
    "print(\"Train label size = {:s}\".format(str(y_train.shape)))\n",
    "X_test, y_test = _gen_dataset(test_file_df, opts)\n",
    "print(\"Test dataset size = {:s}\".format(str(X_test.shape)))\n"
   ]
  },
  {
   "cell_type": "code",
   "execution_count": 27,
   "metadata": {
    "collapsed": false
   },
   "outputs": [
    {
     "name": "stdout",
     "output_type": "stream",
     "text": [
      "y_pred:[3 3 0 7 3 6 3 0 2 2 4 4 1 6 9 7 7 0 6 4 2 0 9 8 8 8 0 3 4 7 4 4 3 3 8 8 8\n",
      " 9 0 4 2 7 7 3 6 2 4 4 5 4 2 4 7 0 3 3 0 2 3 5 0 2 4 3 6 2 4 0 4 9 2 7 8 8\n",
      " 8 7 5 4 7 0 0 3 8 8 6 8 8 7 2 9 4 0 7 4 6 2 4 2 6 7 2 3 3 6 2 3 2 0 3 4 4\n",
      " 2 9 6 2 3 4 7 4 7 3 7 6 2 4 2 2 4 2 2 6 9 4 0 2 8 8 3 3 8 8 3 3 8 8 2 0 9\n",
      " 6 4 2 4 6 4 2 2 4 2 2 6 6 3 3 2 7 4 9 2 7 7 3 4 4 4 1 9 4 7 9 6 7 9 0 7 3\n",
      " 4 9 6 3 4 0 2 2 6 2 9 0 9 3 8 5 2 6 8 4 9 9 1 0 9 9 6 8 4 5 8 0 3 6 2 2 3\n",
      " 9 4 3 2 6 3 7 0 3 3 6 2 3 7 0 6 2 8 2 7 2 8 3 4 5 8 6 7 9 2 9 2 7 4 8 2 7\n",
      " 5 4 3 3 2 9 9 1 9 9 9 6 9 9 1 3 4 4 4 2 9 2 3 4 5 7 9 7 2 8 7 4 2 4 8 3 3\n",
      " 3 3 7 6 7 2 2 7 2 8 4 2 7 3 2 8 7 7 6 8 9 2 2 4 4 1 3 3 9 4 5 3 9 4 9 4 2\n",
      " 2 3 4 8 2 2 9 2 9 3 2 9 3 7 8 4 2 2 3 8 2 2 9 3 3 7 2 1 3 8 2 9 9 2 5 7 2\n",
      " 3 7 9 1 7 3 6 9 9 9 2 7 1 3 9 3 3 6 1 3 2 7 1 9 8 3 1 8 9 9 3 9 2 2 4 3 3\n",
      " 7 6 4 5 9 4 3 2 5 9 9 7 7 9 7 9 4 7 3 7 2 8 4 3 9 1 9 9 9 9 1 4 9 2 8 3 6\n",
      " 7 9 9 2 4 2 7 2 7 2 7 9 4 9 6 8 3 3 9 9 3 2 2 2 3 9 7 6 4 8 9 7 7 3 7 9 2\n",
      " 9 8 8 2 3 4 9 3 3 2 3 2 9 3 4 8 9 7 0 7 7 0 7 3 3 1 2 2 2 5 9 7 3 5 3 7 2\n",
      " 7 0 3 2 3 2 2 5 9 9 8 7 2 2 3 7 7 3 0 8 4 2 3 2 9 0 9 2 4 9 4 9 9 3 2 9 9\n",
      " 9 2 9 7 3 2 1 8 2 3 9 7 2 7 7 6 4 5 3 2 6 2 9 7 7 9 7 3 9 3 3 3 8 2 9 7 9\n",
      " 7 1 0 3 4 9 8 3 9 9 2 6 9 2 9 8 3 1 9 0 1 1 7 9 7 7 3 3 7 2 2 3 7 2 7 3 3\n",
      " 2 9 2 7 0 6 5 3 9 7 2 7 0 2 2 4 4 3 9 8 9 2 2 2 8 2 9 4 3 9 6 2 0 3 7 7 2\n",
      " 3 5 3 8 9 3 8 7 0 1 3 7 9 2 9 7 3 7 7 2 1 4 2 0 3 4 2 3 2 0 2 9 3 6 4 2 9\n",
      " 9 4 9 8 3 2 9 3 8 4 0 9 1 9 7 9 4 2 9 8 3 8 2 3 9 6 9 2 3 4 9 6 9 3 9 7 9\n",
      " 3 3 3 4 2 7 1 2 4 1 2 9 7 2 2 3 9 3 3 3 7 9 2 9 0 2 3 0 9 8 8 8 4 6 9 9 2\n",
      " 9 9 7 8 4 3 4 8 8 0 9 3 3 6 1 5 2 3 2 0 3 3 9 4 2 3 2 2 3 1 2 4 2 2 2 1 2\n",
      " 3 3 3 2 2 7 4 2 9 2 5 2 9 7 4 4 8 8 9 9 9 8 2 3 4 8 7 2 2 3 2 9 5 9 6 4 2\n",
      " 4 7 3 5 7 3 4 3 2 2 3 2 4 1 1 4 4 3 3 5 6 7 3 7 9 3 0 2 4 3 2 4 2 5 7 9 7\n",
      " 9 8 9 8 9 7 3 0 0 8 4 3 8 4 5 9 2 5 2 3 0 4 9 3 7 3 7 9 3 2 5 3 4 2 4 1 2]\n",
      "confusion_matrix:\n",
      "[[ 1  1 36 19  3  7  0  9  0 24]\n",
      " [ 0 24  0 15  2  0  0  0  0  2]\n",
      " [ 0  0 53 20  2  0  0  0  5 20]\n",
      " [ 0  2 22 65  6  1  0  0  0  4]\n",
      " [ 0  0  6 13 59  1 18  0  0  3]\n",
      " [24  1  8  7  3  7  0 52  0  5]\n",
      " [ 0  0  1  4  0  0 27  0  0  4]\n",
      " [17  0  0  0 20  0  0 34  0 49]\n",
      " [ 0  3 15  4  1  8  1 13 68  6]\n",
      " [ 3  0 35 13 10  3  1  3  0 32]]\n",
      "classification_report:\n",
      "             precision    recall  f1-score   support\n",
      "\n",
      "          0       0.02      0.01      0.01       100\n",
      "          1       0.77      0.56      0.65        43\n",
      "          2       0.30      0.53      0.38       100\n",
      "          3       0.41      0.65      0.50       100\n",
      "          4       0.56      0.59      0.57       100\n",
      "          5       0.26      0.07      0.10       107\n",
      "          6       0.57      0.75      0.65        36\n",
      "          7       0.31      0.28      0.29       120\n",
      "          8       0.93      0.57      0.71       119\n",
      "          9       0.21      0.32      0.26       100\n",
      "\n",
      "avg / total       0.41      0.40      0.38       925\n",
      "\n",
      "accuracy=0.400\n"
     ]
    }
   ],
   "source": [
    "svm = SVMModel(opts)\n",
    "svm.run(X_train, y_train)\n",
    "confusion_matrix, classification_report, acc = svm.evaluate(X_test, y_test)\n",
    "print(\"confusion_matrix:\")\n",
    "print(str(confusion_matrix))\n",
    "print(\"classification_report:\")\n",
    "print(str(classification_report))\n",
    "print(\"accuracy={:0.3f}\".format(acc))\n"
   ]
  },
  {
   "cell_type": "code",
   "execution_count": 29,
   "metadata": {
    "collapsed": true
   },
   "outputs": [],
   "source": [
    "def plot_confusion_matrix(cm,\n",
    "                          target_names,\n",
    "                          opts,\n",
    "                          title='Confusion matrix',\n",
    "                          cmap=None,\n",
    "                          normalize=True):\n",
    "    \"\"\"\n",
    "    given a sklearn confusion matrix (cm), make a nice plot\n",
    "\n",
    "    Arguments\n",
    "    ---------\n",
    "    cm:           confusion matrix from sklearn.metrics.confusion_matrix\n",
    "\n",
    "    target_names: given classification classes such as [0, 1, 2]\n",
    "                  the class names, for example: ['high', 'medium', 'low']\n",
    "\n",
    "    title:        the text to display at the top of the matrix\n",
    "\n",
    "    cmap:         the gradient of the values displayed from matplotlib.pyplot.cm\n",
    "                  see http://matplotlib.org/examples/color/colormaps_reference.html\n",
    "                  plt.get_cmap('jet') or plt.cm.Blues\n",
    "\n",
    "    normalize:    If False, plot the raw numbers\n",
    "                  If True, plot the proportions\n",
    "    Usage\n",
    "        -----\n",
    "        plot_confusion_matrix(cm           = cm,                  # confusion matrix created by\n",
    "                                                                  # sklearn.metrics.confusion_matrix\n",
    "                              normalize    = True,                # show proportions\n",
    "                              target_names = y_labels_vals,       # list of names of the classes\n",
    "                              title        = best_estimator_name) # title of graph\n",
    "\n",
    "        Citiation\n",
    "        ---------\n",
    "        http://scikit-learn.org/stable/auto_examples/model_selection/plot_confusion_matrix.html\n",
    "\n",
    "        \"\"\"\n",
    "    import matplotlib.pyplot as plt\n",
    "    import numpy as np\n",
    "    import itertools\n",
    "\n",
    "    accuracy = np.trace(cm) / float(np.sum(cm))\n",
    "    misclass = 1 - accuracy\n",
    "\n",
    "    if cmap is None:\n",
    "        cmap = plt.get_cmap('Purples')\n",
    "\n",
    "    plt.figure(figsize=(8, 6))\n",
    "    plt.imshow(cm, interpolation='nearest', cmap=cmap)\n",
    "    plt.title(title)\n",
    "    plt.colorbar()\n",
    "\n",
    "    if target_names is not None:\n",
    "        tick_marks = np.arange(len(target_names))\n",
    "        plt.xticks(tick_marks, target_names, rotation=45)\n",
    "        plt.yticks(tick_marks, target_names)\n",
    "\n",
    "    if normalize:\n",
    "        cm = cm.astype('float') / cm.sum(axis=1)[:, np.newaxis]\n",
    "\n",
    "\n",
    "    thresh = cm.max() / 1.5 if normalize else cm.max() / 2\n",
    "    for i, j in itertools.product(range(cm.shape[0]), range(cm.shape[1])):\n",
    "        if normalize:\n",
    "            plt.text(j, i, \"{:0.4f}\".format(cm[i, j]),\n",
    "                     horizontalalignment=\"center\",\n",
    "                     color=\"white\" if cm[i, j] > thresh else \"black\")\n",
    "        else:\n",
    "            plt.text(j, i, \"{:,}\".format(cm[i, j]),\n",
    "                     horizontalalignment=\"center\",\n",
    "                     color=\"white\" if cm[i, j] > thresh else \"black\")\n",
    "\n",
    "\n",
    "    plt.tight_layout()\n",
    "    plt.ylabel('True label')\n",
    "    plt.xlabel('Predicted label\\naccuracy={:0.4f}; misclass={:0.4f}'.format(accuracy, misclass))\n",
    "    plt.savefig(os.path.join(opts.plot_path, title), bbox_inches='tight')\n",
    "    plt.show()"
   ]
  },
  {
   "cell_type": "code",
   "execution_count": 31,
   "metadata": {
    "collapsed": false
   },
   "outputs": [
    {
     "data": {
      "image/png": "[encoded data removed]",
      "text/plain": [
       "<Figure size 576x432 with 2 Axes>"
      ]
     },
     "metadata": {},
     "output_type": "display_data"
    }
   ],
   "source": [
    "labels = ['AC', 'CH', 'CP', 'DB', 'DR', 'EI', 'GS', 'JH', 'SI', 'SM']\n",
    "plot_confusion_matrix(confusion_matrix, \n",
    "                      labels,\n",
    "                      opts,\n",
    "                      normalize = False,\n",
    "                      title = \"Confusion Matrix of SVM\")"
   ]
  },
  {
   "cell_type": "code",
   "execution_count": null,
   "metadata": {
    "collapsed": true
   },
   "outputs": [],
   "source": []
  }
 ],
 "metadata": {
  "kernelspec": {
   "display_name": "Python 3",
   "language": "python",
   "name": "python3"
  },
  "language_info": {
   "codemirror_mode": {
    "name": "ipython",
    "version": 3
   },
   "file_extension": ".py",
   "mimetype": "text/x-python",
   "name": "python",
   "nbconvert_exporter": "python",
   "pygments_lexer": "ipython3",
   "version": "3.6.8"
  }
 },
 "nbformat": 4,
 "nbformat_minor": 2
}
